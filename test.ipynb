{
 "cells": [
  {
   "cell_type": "code",
   "execution_count": 31,
   "id": "9dd93d05-5fcb-4358-beb5-f8165332c132",
   "metadata": {},
   "outputs": [],
   "source": [
    "import os\n",
    "import cv2\n",
    "import numpy as np\n",
    "import tensorflow as tf\n",
    "import matplotlib.pyplot as plt"
   ]
  },
  {
   "cell_type": "code",
   "execution_count": 34,
   "id": "5ccbf0f3-086e-4a91-920d-d1030c44fc49",
   "metadata": {},
   "outputs": [
    {
     "name": "stdout",
     "output_type": "stream",
     "text": [
      "Model: \"sequential_10\"\n",
      "_________________________________________________________________\n",
      " Layer (type)                Output Shape              Param #   \n",
      "=================================================================\n",
      " lambda_1 (Lambda)           (None, None, None, 3)     0         \n",
      "                                                                 \n",
      " vgg16 (Functional)          (None, 4, 4, 512)         14714688  \n",
      "                                                                 \n",
      " flatten_9 (Flatten)         (None, 8192)              0         \n",
      "                                                                 \n",
      " dense_22 (Dense)            (None, 256)               2097408   \n",
      "                                                                 \n",
      " dense_23 (Dense)            (None, 128)               32896     \n",
      "                                                                 \n",
      " dense_24 (Dense)            (None, 50)                6450      \n",
      "                                                                 \n",
      "=================================================================\n",
      "Total params: 16,851,442\n",
      "Trainable params: 2,136,754\n",
      "Non-trainable params: 14,714,688\n",
      "_________________________________________________________________\n"
     ]
    }
   ],
   "source": [
    "model = tf.keras.models.load_model(\"log2\")\n",
    "model.summary()\n"
   ]
  },
  {
   "cell_type": "code",
   "execution_count": 29,
   "id": "45c19ca6-ca1b-4037-943e-532b2c30562b",
   "metadata": {},
   "outputs": [
    {
     "name": "stdout",
     "output_type": "stream",
     "text": [
      "Found 32000 files belonging to 50 classes.\n",
      "1/1 [==============================] - 0s 12ms/step\n",
      "Predicted class: house\n"
     ]
    }
   ],
   "source": [
    "img_path = os.path.join(\"Data\",\"train\",\"house\",\"4642673929486336.png\")\n",
    "train_df = tf.keras.preprocessing.image_dataset_from_directory(\"Data/train\",image_size=(128,128))\n",
    "class_names = train_df.class_names\n",
    "\n",
    "img = tf.keras.preprocessing.image.load_img(img_path, target_size=(128, 128), color_mode=\"grayscale\")\n",
    "img_array = tf.keras.preprocessing.image.img_to_array(img)\n",
    "img_array = np.expand_dims(img_array, axis=0)  # Add batch dimension\n",
    "# img_array = tf.image.grayscale_to_rgb(img_array)  # Convert grayscale to RGB for VGG16\n",
    "\n",
    "# Predict using the model\n",
    "predictions = model.predict(img_array)\n",
    "print(\"Predicted class:\", class_names[np.argmax(predictions)])"
   ]
  },
  {
   "cell_type": "code",
   "execution_count": 35,
   "id": "033358f2-b860-4e9d-92a1-63a3d40c3456",
   "metadata": {},
   "outputs": [],
   "source": [
    "model.save(\"model-v2.h5\")"
   ]
  },
  {
   "cell_type": "code",
   "execution_count": null,
   "id": "bec8201a-e1d1-434a-81a9-4bf565ec84dd",
   "metadata": {},
   "outputs": [],
   "source": []
  }
 ],
 "metadata": {
  "kernelspec": {
   "display_name": "Python 3 (ipykernel)",
   "language": "python",
   "name": "python3"
  },
  "language_info": {
   "codemirror_mode": {
    "name": "ipython",
    "version": 3
   },
   "file_extension": ".py",
   "mimetype": "text/x-python",
   "name": "python",
   "nbconvert_exporter": "python",
   "pygments_lexer": "ipython3",
   "version": "3.10.14"
  }
 },
 "nbformat": 4,
 "nbformat_minor": 5
}
